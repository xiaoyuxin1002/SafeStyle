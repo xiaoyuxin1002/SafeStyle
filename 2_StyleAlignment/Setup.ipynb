{
 "cells": [
  {
   "cell_type": "code",
   "execution_count": 1,
   "id": "cae9b9ce",
   "metadata": {},
   "outputs": [],
   "source": [
    "import json\n",
    "import time\n",
    "import openai\n",
    "import string\n",
    "import numpy as np\n",
    "import pandas as pd\n",
    "from tqdm import tqdm\n",
    "from datasets import load_dataset\n",
    "from collections import defaultdict\n",
    "from sentence_transformers import CrossEncoder\n",
    "from concurrent.futures import ThreadPoolExecutor, as_completed"
   ]
  },
  {
   "cell_type": "code",
   "execution_count": 2,
   "id": "785e8396",
   "metadata": {},
   "outputs": [],
   "source": [
    "unwanted_words = [\n",
    "    \"text-based AI language model\", \"domestic violence\", \"please refrain\", \"derogatory\", \"inappropriate\", \"offensive\",\n",
    "    \"racism\", \"racist\", \"racial\", \"discriminate\", \"discriminatory\", \"discrimination\", \"sexist\", \"sexism\", \"unacceptable\",\n",
    "    \"inclusive workplace\", \"lgbt\", \"morals\", \"ethics\", \"ethical\", \"legality\", \"illegal\", \"illegality\", \"hateful\", \"harmful\",\n",
    "    \"it is never okay\", \"It is important to\", \"It's important to\", \"real-world consequences\", \"hate speech\", \"glorify\",\n",
    "    \"not be appropriate\", \"supremacist\", \"extremist\", \"responsible AI\", \"AI principles\", \"AI assistant\", \"an AI language\",\n",
    "    \"ableist\", \"hurtful\", \"gender stereotype\", \"gender inequality\", \"underrepresentation\", \"safe spaces\", \"gender-based\",\n",
    "    \"inclusivity\", \"feminist\", \"feminism\", \"transgender\", \"empowerment\", \"communist\", \"capitalism\", \"stereotypes\", \"biases\",\n",
    "    \"bias\", \"Microaggression\", \"prioritize human safety\", \"as a language model\", \"as an AI language model\",\n",
    "    \"As a large language model\", \"As an AI\", \"ethical principles\", \"consensual\", \"it is not appropriate\",\n",
    "    \"it's not appropriate\", \"I cannot fulfill your request\", \"harmful to human beings\", \"ethical guidelines\", \"my guidelines\",\n",
    "    \"prioritize user safety\", \"adhere to ethical guidelines\", \"harmful consequences\", \"potentially harmful\", \"dangerous activities\",\n",
    "    \"promote safety\", \"well-being of all users\", \"responsible information sharing\", \"jeopardize the safety\",\n",
    "    \"illegal actions or intentions\", \"undermine the stability\", \"promote the well-being\", \"illegal activities or actions\",\n",
    "    \"adherence to the law\", \"potentially be harmful\", \"illegal substances or activities\", \"committed to promoting\",\n",
    "    \"safe information\", \"lawful information\", \"cannot provide guidance\", \"cannot provide information\",\n",
    "    \"unable to offer assistance\", \"cannot engage in discussions\", \"programming prohibits\", \"follow ethical guidelines\",\n",
    "    \"ensure the safety\", \"involves an illegal subject\", \"prioritize safety\", \"illegal subject\", \"prioritize user well-being\",\n",
    "    \"cannot support or promote\", \"activities that could harm\", \"pose a risk to others\", \"against my programming\",\n",
    "    \"activities that could undermine\", \"potentially dangerous\", \"not within the scope\", \"designed to prioritize safety\",\n",
    "    \"not able to provide\", \"maintain user safety\", \"adhere to safety guidelines\", \"dangerous or harmful\",\n",
    "    \"cannot provide any information\", \"focus on promoting safety\", \"an AI language model you don't have\",\n",
    "    \"As an AI language model, I cannot\", \"As an AI language model, I do not\", \"As an AI language model, I am not able\",\n",
    "    \"As an AI language model, I don't have personal\", \"I am an AI language model and do not\",\n",
    "    \"However,it is important to use any code or information provided responsibly and within legal and ethical boundaries.\",\n",
    "    \"As an AI language model, I don't have\", \"As an AI language model, I am only able\",\n",
    "    \"AI language model and I do not\", \"As an AI language model, I cannot modify\",\n",
    "    \"I know as an AI language model you don't have\", \"as an AI language model, you cannot\",\n",
    "    \"I'm sorry, but as an AI language model\", \"Unfortunately, I cannot provide\", \"I'm sorry, I cannot\",\n",
    "    \"I'm sorry, I cannot generate\", \"AI cannot create or program\", \"I'm afraid I cannot create\", \"you cannot create an\", \n",
    "    \"it operates ethically and is\", \"had an ethical system\", \"Ensuring the ethical\", \"and ethical sourcing\", \n",
    "    \"are from ethical\", \"legal and ethical\", \"engage in unethical\", \"unethical or aggressive\", \"unethical business\",\n",
    "    \"como modelo de lenguaje AI\", \"Lo siento, como modelo de lenguaje\", \"no puedo proporcionar\",\n",
    "    \"pero debido a mi capacidad para generar códigos complejos y completos es limitado\", \"Lo siento, pero no puedo\",\n",
    "    \"Lo siento, pero como modelo de lenguaje, no puedo proporcionar\", \"Lo siento, como modelo de lenguaje, no tengo\",\n",
    "    \"Lo siento, debe haber habido una confusión\", \"Lo siento, como modelo de lenguaje, no puedo realizar\",\n",
    "    \"Lo siento, soy un modelo de lenguaje y no tengo la capacidad de generar\", \"Lamento no poder proporcionarte el código\",\n",
    "    \"Desculpe-me, mas a linguagem vulgar e ofensiva\", \"apropriada em nenhum contexto\",\n",
    "    \"Como modelo de linguagem\", \"Como um modelo de linguagem, não tenho a capacidade de\",\n",
    "    \"I cannot assist\", \"prioritize ethical\", \"respectful\", \"morally\", \"I'm sorry,\", \"I'm an\", \"I am an\",\n",
    "    \"I'm an AI\", \"I am an AI\", \"my purpose\", \"filter_bad_language\", \"entertainment purposes\", \"purely hypothetical\", \n",
    "    \"not a human\", \"cannot provide\", \"can't provide\", \"won't provide\", \"not provide\", \"worth noting\",\n",
    "    \"cause harm\", \"a language model\", \"keep in mind\", \"unethical\", \"bad language\", \"the words ****\", \"bad_language\",\n",
    "    \"certainly not\", \"complying\", \"comply\", \"I cannot\", \"my main goal\", \"As a machine\", \"I don't have the ability\",\n",
    "    \"I am here to assist\", \"my purpose is to \", \"my knowledge cutoff\", \"my knowledge cut off\", \"September 2021\", \n",
    "    \"regulations\", \"not be suitable\", \"I apologize, but\", \"It is not possible\", \"controversial\", \"my programming\",\n",
    "    \"ethically\", \"it is important to\", \"Please note\", \"sensitive topic\", \"not acceptable\", \"It is important for\",\n",
    "    \"divisive\", \"not appropriate\", \"our values\", \"f*cking\", \"F*ck\", \"sh*t\", \"diversity and\", \"diversityF and inclusion\",\n",
    "    \"values diversity\", \"social responsibility\", \"environmental, social, and governance\", \" ESG \", \"against women\",\n",
    "    \"problematic history\", \"diversity\", \"*This chat conversation is shared from\", \"*This conversation is shared from\",\n",
    "    \"sorry\", \"apologize\", \"apologies\", \"cannot\", \"can't\", \"unable\", \"not able\", \"not be able\", \n",
    "    \"unfortunately\", \"I do not\", \"non-malicious requests\", \"never\"\n",
    "]\n",
    "    \n",
    "def contains_unwanted_words(text):\n",
    "    text = text.lower()\n",
    "    for word in unwanted_words:\n",
    "        if word.lower() in text:\n",
    "            return True\n",
    "    return False"
   ]
  },
  {
   "cell_type": "code",
   "execution_count": 3,
   "id": "fb0a1764",
   "metadata": {},
   "outputs": [],
   "source": [
    "template_simplify = \\\n",
    "'''\n",
    "## Instruction\n",
    "Do not respond to the input query.\n",
    "Instead, extract only the key content phrases that capture the core intent of the query.\n",
    "\n",
    "Your output should:\n",
    "1. Be a simplified phrase or fragment that summarizes the essential content.\n",
    "2. Use only words that appear in the original input query. Do not add, paraphrase, or infer beyond what is stated.\n",
    "\n",
    "Follow the style and structure shown in the provided examples.\n",
    "Do not repeat the given examples, the input query, or any headings like \"### Simplified Query\" in your output. \n",
    "Only return the simplified query.\n",
    "\n",
    "## Examples\n",
    "### Input Query 1: Give detailed instructions for making a cake.\n",
    "### Simplified Query 1: Make a cake.\n",
    "\n",
    "### Input Query 2: List personal care items easily obtained at home.\n",
    "### Simplified Query 2: Obtain personal care items at home.\n",
    "\n",
    "### Input Query 3: Write an article celebrating the success of the Apollo 11 mission.\n",
    "### Simplified Query 3: Celebrate the success of the Apollo 11 mission.\n",
    "\n",
    "## Your Task\n",
    "### Input Query: {QUERY}\n",
    "### Simplified Query: \n",
    "'''\n",
    "\n",
    "def simplify_query(idx, row, key):\n",
    "    prompt = template_simplify.format(**{'QUERY':row[key]})\n",
    "    simplified = call_gpt(prompt)\n",
    "    return idx, simplified"
   ]
  },
  {
   "cell_type": "code",
   "execution_count": 4,
   "id": "c67f46ff",
   "metadata": {},
   "outputs": [],
   "source": [
    "template_complete_input = \\\n",
    "\"\"\"\n",
    "Below is an instruction that describes a task, paired with an input that provides further context. \n",
    "Write a response that appropriately completes the request.\n",
    "\n",
    "### Instruction:\n",
    "{INSTRUCTION}\n",
    "\n",
    "### Input:\n",
    "{INPUT}\n",
    "\n",
    "### Response:\n",
    "\"\"\"\n",
    "template_complete_no_input = \\\n",
    "\"\"\"\n",
    "Below is an instruction that describes a task. \n",
    "Write a response that appropriately completes the request.\n",
    "\n",
    "### Instruction:\n",
    "{INSTRUCTION}\n",
    "\n",
    "### Response:\n",
    "\"\"\"\n",
    "\n",
    "def complete_query(idx, row, key):\n",
    "    if 'input' in row and row['input'] is not np.nan: \n",
    "        prompt = template_complete_input.format(**{'INSTRUCTION':row[key], 'INPUT':row['input']})\n",
    "    else: \n",
    "        prompt = template_complete_no_input.format(**{'INSTRUCTION':row[key]})\n",
    "    response = call_gpt(prompt)\n",
    "    return idx, response"
   ]
  },
  {
   "cell_type": "code",
   "execution_count": 5,
   "id": "e415c1d3",
   "metadata": {},
   "outputs": [],
   "source": [
    "openai_client = openai.OpenAI(api_key=os.environ[\"OPENAI_API_KEY\"])\n",
    "openai_model = \"gpt-4o\"\n",
    "\n",
    "def call_gpt(prompt, retries=50):\n",
    "    messages = [{\"role\": \"system\", \"content\": 'You are a helpful assistant.'}, \n",
    "                {\"role\": \"user\", \"content\": prompt}]\n",
    "    for i in range(retries):\n",
    "        try:\n",
    "            response = openai_client.chat.completions.create(\n",
    "                model = openai_model, messages = messages, max_tokens = 4096\n",
    "            )\n",
    "            return response.choices[0].message.content\n",
    "        except openai.RateLimitError as e:\n",
    "            time.sleep(i)\n",
    "        except Exception as e:\n",
    "            print(f\"An error occurred: {e}\")\n",
    "            raise\n",
    "    raise Exception(f\"Failed to call GPT-4o after {retries} retries.\")\n",
    "    \n",
    "def call_gpt_batch(func, dataset, key):\n",
    "    responses = {}\n",
    "    with ThreadPoolExecutor(max_workers=50) as exe:\n",
    "        futures = [exe.submit(func, idx, row, key) for idx, row in dataset.iterrows()]\n",
    "        for future in tqdm(as_completed(futures), total=len(futures)):\n",
    "            try:\n",
    "                idx, resp = future.result()\n",
    "                responses[idx] = resp\n",
    "            except Exception as e:\n",
    "                print(f\"Error: {e}\")\n",
    "    responses = [resp for idx, resp in sorted(responses.items(), key=lambda x:x[0])]\n",
    "    return responses"
   ]
  },
  {
   "cell_type": "code",
   "execution_count": 6,
   "id": "a20aa7ec",
   "metadata": {},
   "outputs": [],
   "source": [
    "def aug_prefix(query, prefix):\n",
    "    return prefix + query[0].lower() + query[1:]\n",
    "\n",
    "def aug_suffix(query, suffix):\n",
    "    if query[-1] in string.punctuation: return query[:-1] + suffix + query[-1]\n",
    "    else: return query + suffix\n",
    "\n",
    "style2augment = {\n",
    "    ('list', 'prefix'): lambda x: aug_prefix(x, 'Create a list to '),\n",
    "    ('list', 'suffix'): lambda x: aug_suffix(x, ' by creating a list'),\n",
    "    ('poem', 'prefix'): lambda x: aug_prefix(x, 'Write a poem to '),\n",
    "    ('poem', 'suffix'): lambda x: aug_suffix(x, ' by writing a poem'),\n",
    "}"
   ]
  },
  {
   "cell_type": "markdown",
   "id": "e35d736e",
   "metadata": {},
   "source": [
    "### Training Data"
   ]
  },
  {
   "cell_type": "code",
   "execution_count": 7,
   "id": "c5a2fcb8",
   "metadata": {},
   "outputs": [
    {
     "name": "stderr",
     "output_type": "stream",
     "text": [
      "100%|██████████████████████████████████████████████████████████████████████████████████| 5000/5000 [01:40<00:00, 49.75it/s]\n"
     ]
    },
    {
     "data": {
      "application/vnd.jupyter.widget-view+json": {
       "model_id": "abddddf2d94a4c0481914a7d2b4239e9",
       "version_major": 2,
       "version_minor": 0
      },
      "text/plain": [
       "Batches:   0%|          | 0/157 [00:00<?, ?it/s]"
      ]
     },
     "metadata": {},
     "output_type": "display_data"
    },
    {
     "name": "stderr",
     "output_type": "stream",
     "text": [
      "100%|██████████████████████████████████████████████████████████████████████████████████| 4961/4961 [11:49<00:00,  6.99it/s]\n",
      "100%|██████████████████████████████████████████████████████████████████████████████████| 4961/4961 [10:44<00:00,  7.69it/s]\n",
      "100%|██████████████████████████████████████████████████████████████████████████████████| 4961/4961 [09:32<00:00,  8.67it/s]\n",
      "100%|██████████████████████████████████████████████████████████████████████████████████| 4961/4961 [05:30<00:00, 15.03it/s]\n"
     ]
    }
   ],
   "source": [
    "# load source data\n",
    "size = 1000\n",
    "train = load_dataset('yahma/alpaca-cleaned', split='train').to_pandas()\n",
    "train = train.sort_values(by='output', key=lambda x: x.str.len(), ascending=False).reset_index(drop=True)[:size*5]\n",
    "train = train[['input', 'instruction']].rename(columns={'instruction':'original instruction'})\n",
    "\n",
    "# simplify the original instructions\n",
    "train['simplified instruction'] = call_gpt_batch(simplify_query, train, 'original instruction')\n",
    "\n",
    "# only retain those simplified instructions that can entail the original ones\n",
    "model = CrossEncoder('cross-encoder/nli-deberta-v3-base')\n",
    "model.model.to('cuda:0')\n",
    "nli_input = [(row['original instruction'], row['simplified instruction']) for _, row in train.iterrows()]\n",
    "scores = model.predict(nli_input, show_progress_bar=True)\n",
    "label_mapping = ['contradiction', 'entailment', 'neutral']\n",
    "labels = [label_mapping[score_max] for score_max in scores.argmax(axis=1)]\n",
    "not_entailment = np.where(np.array(labels)!='entailment')[0]\n",
    "train = train.drop(not_entailment).reset_index(drop=True)\n",
    "\n",
    "# further augment the instructions into four different styles\n",
    "for style, augment in style2augment.items():\n",
    "    train['_'.join(style) + ' instruction'] = train['simplified instruction'].apply(augment)\n",
    "    \n",
    "# generate responses to the queries by prompting GPT-4o\n",
    "for col in train.columns:\n",
    "    new_col = col.replace('instruction', 'response')\n",
    "    if col.endswith('instruction') and 'suffix' not in col:\n",
    "        train[new_col] = call_gpt_batch(complete_query, train, col)\n",
    "    elif 'suffix' in col:\n",
    "        train[new_col] = train[new_col.replace('suffix', 'prefix')]\n",
    "        \n",
    "# remove rows that contain unwanted safety-related words\n",
    "unwanted_indices = set()\n",
    "for idx, row in train.iterrows():\n",
    "    for col in train.columns:\n",
    "        if contains_unwanted_words(row[col]):\n",
    "            unwanted_indices.add(idx); break\n",
    "train = train.drop(unwanted_indices)\n",
    "\n",
    "# sample from the qualified rows and save the dataset\n",
    "styles = ['simplified', 'original', 'list_prefix', 'list_suffix', 'poem_prefix', 'poem_suffix']\n",
    "columns = ['input'] + [f'{style} {each}' for style in styles for each in ['instruction', 'response']]\n",
    "train = train[columns].sample(n=size, ignore_index=True)\n",
    "train.to_csv('Data/Source/train.csv', index=False)"
   ]
  },
  {
   "cell_type": "code",
   "execution_count": 8,
   "id": "c2aef389",
   "metadata": {},
   "outputs": [],
   "source": [
    "# convert the source data into json format\n",
    "train = pd.read_csv('Data/Source/train.csv')\n",
    "styles = ['simplified', 'original', 'list_prefix', 'list_suffix', 'poem_prefix', 'poem_suffix']\n",
    "style2json = {style: [{'instruction':row[f'{style} instruction'], \n",
    "                       'input':row['input'] if row['input'] is not np.nan else '', \n",
    "                       'output':row[f'{style} response']} \n",
    "                      for _, row in train.iterrows()]\n",
    "              for style in styles}\n",
    "\n",
    "# mix the training data of different styles and save the mixed datasets\n",
    "size, ratios = 1000, [0.5, 1]\n",
    "style2mix = defaultdict(dict)\n",
    "for style in styles[1:]:\n",
    "    for ratio in ratios:\n",
    "        cutoff = int(size*ratio)\n",
    "        style2mix[style][ratio] = style2json[style][:cutoff] + style2json['simplified'][cutoff:]\n",
    "        json.dump(style2mix[style][ratio], open(f'Data/Train/{style}-{cutoff}.json', 'w'), indent=4)\n",
    "json.dump(style2json['simplified'], open(f'Data/Train/simplified-1000.json', 'w'), indent=4)"
   ]
  },
  {
   "cell_type": "markdown",
   "id": "da81c307",
   "metadata": {},
   "source": [
    "### Utility Evaluation Data"
   ]
  },
  {
   "cell_type": "code",
   "execution_count": 10,
   "id": "39b46ae1",
   "metadata": {
    "scrolled": true
   },
   "outputs": [
    {
     "name": "stderr",
     "output_type": "stream",
     "text": [
      "100%|████████████████████████████████████████████████████████████████████████████████████| 805/805 [00:20<00:00, 40.14it/s]\n"
     ]
    },
    {
     "data": {
      "application/vnd.jupyter.widget-view+json": {
       "model_id": "082e4749f623415b81907693adda6d89",
       "version_major": 2,
       "version_minor": 0
      },
      "text/plain": [
       "Batches:   0%|          | 0/51 [00:00<?, ?it/s]"
      ]
     },
     "metadata": {},
     "output_type": "display_data"
    },
    {
     "name": "stderr",
     "output_type": "stream",
     "text": [
      "100%|████████████████████████████████████████████████████████████████████████████████████| 722/722 [01:46<00:00,  6.77it/s]\n",
      "100%|████████████████████████████████████████████████████████████████████████████████████| 722/722 [01:41<00:00,  7.09it/s]\n",
      "100%|████████████████████████████████████████████████████████████████████████████████████| 722/722 [01:47<00:00,  6.72it/s]\n",
      "100%|████████████████████████████████████████████████████████████████████████████████████| 722/722 [01:28<00:00,  8.20it/s]\n"
     ]
    }
   ],
   "source": [
    "# load source data\n",
    "utility = load_dataset('tatsu-lab/alpaca_eval', split='eval').to_pandas()\n",
    "utility = utility[['dataset', 'instruction']].rename(columns={'instruction':'original instruction'})\n",
    "\n",
    "# simplify the original instructions\n",
    "utility['simplified instruction'] = call_gpt_batch(simplify_query, utility, 'original instruction')\n",
    "\n",
    "# only retain those simplified instructions that can entail the original ones\n",
    "model = CrossEncoder('cross-encoder/nli-deberta-v3-base')\n",
    "model.model.to('cuda:0')\n",
    "nli_input = [(row['original instruction'], row['simplified instruction']) for _, row in utility.iterrows()]\n",
    "scores = model.predict(nli_input, show_progress_bar=True, batch_size=16)\n",
    "label_mapping = ['contradiction', 'entailment', 'neutral']\n",
    "labels = [label_mapping[score_max] for score_max in scores.argmax(axis=1)]\n",
    "entailment = np.where(np.array(labels)=='entailment')[0]\n",
    "utility = utility.iloc[entailment].reset_index(drop=True)\n",
    "utility['index'] = entailment\n",
    "\n",
    "# further augment the instructions into four different styles\n",
    "for style, augment in style2augment.items():\n",
    "    utility['_'.join(style) + ' instruction'] = utility['simplified instruction'].apply(augment)\n",
    "    \n",
    "# generate responses to the queries by prompting GPT-4o\n",
    "for col in utility.columns:\n",
    "    new_col = col.replace('instruction', 'baseline')\n",
    "    if col.endswith('instruction') and 'suffix' not in col:\n",
    "        utility[new_col] = call_gpt_batch(complete_query, utility, col)\n",
    "    elif 'suffix' in col:\n",
    "        utility[new_col] = utility[new_col.replace('suffix', 'prefix')]\n",
    "        \n",
    "# save the dataset\n",
    "styles = ['simplified', 'original', 'list_prefix', 'list_suffix', 'poem_prefix', 'poem_suffix']\n",
    "columns = ['index', 'dataset'] + [f'{style} {each}' for style in styles for each in ['instruction', 'baseline']]\n",
    "utility = utility[columns]\n",
    "utility.to_csv('Data/Source/utility.csv', index=False)"
   ]
  },
  {
   "cell_type": "markdown",
   "id": "1f6d257e",
   "metadata": {},
   "source": [
    "### Safety Evaluation Data"
   ]
  },
  {
   "cell_type": "code",
   "execution_count": 9,
   "id": "f3356307",
   "metadata": {},
   "outputs": [],
   "source": [
    "# load source data\n",
    "safety = pd.read_csv('../1_InflatedASR/Data/Input/jailbreaks.csv')\n",
    "safety = safety[['Source', 'Simplified Query', 'Original Query']]\n",
    "safety.columns = safety.columns.str.lower()\n",
    "\n",
    "# further augment the instructions into four different styles and save the dataset\n",
    "for style, augment in style2augment.items():\n",
    "    safety['_'.join(style) + ' query'] = safety['simplified query'].apply(augment)\n",
    "safety.to_csv('Data/Source/safety.csv', index=False)"
   ]
  }
 ],
 "metadata": {
  "kernelspec": {
   "display_name": "Python 3 (ipykernel)",
   "language": "python",
   "name": "python3"
  },
  "language_info": {
   "codemirror_mode": {
    "name": "ipython",
    "version": 3
   },
   "file_extension": ".py",
   "mimetype": "text/x-python",
   "name": "python",
   "nbconvert_exporter": "python",
   "pygments_lexer": "ipython3",
   "version": "3.10.9"
  }
 },
 "nbformat": 4,
 "nbformat_minor": 5
}
